{
 "cells": [
  {
   "cell_type": "code",
   "execution_count": 1,
   "metadata": {},
   "outputs": [
    {
     "data": {
      "text/plain": [
       "[PhysicalDevice(name='/physical_device:GPU:0', device_type='GPU')]"
      ]
     },
     "execution_count": 1,
     "metadata": {},
     "output_type": "execute_result"
    }
   ],
   "source": [
    "''' Reference:\n",
    "    Wen et al. A Discriminative Feature Learning Approach for Deep Face Recognition. ECCV 2016'''\n",
    "\n",
    "import tensorflow as tf\n",
    "import tensorflow.keras as keras\n",
    "\n",
    "#Allow memory growth\n",
    "physical_devices = tf.config.list_physical_devices('GPU')\n",
    "tf.config.experimental.set_memory_growth(physical_devices[0], True)\n",
    "physical_devices"
   ]
  },
  {
   "cell_type": "code",
   "execution_count": 21,
   "metadata": {},
   "outputs": [],
   "source": [
    "class Centre_loss(keras.layers.Layer):\n",
    "    def __init__(self, num_classes, feature_dim):\n",
    "        super(Centre_loss, self).__init__()\n",
    "        self.num_classes=num_classes\n",
    "        self.feature_dim=feature_dim\n",
    "        self.centres = tf.Variable(tf.random.normal(shape=[self.num_classes, self.feature_dim], trainable=True))\n",
    "\n",
    "    def call(self, inputs, y_True):\n",
    "        #inputs -> shape (batch_size, feature_dim)\n",
    "        #y_True -> the ground true labels of the inputs\n",
    "\n",
    "        batch_size = inputs.shape[0]\n",
    "        \n",
    "        #For inputs\n",
    "        #[batch_size, feature_dim] -> [batch_size, 1]\n",
    "        feature_square_sum = tf.reduce_sum(tf.math.pow(inputs, 2), axis=1, keepdims=True)\n",
    "        #[batch_size, 1] -> [batch_size, num_classes]\n",
    "        feature_ss_broadcast = tf.broadcast_to(input=feature_square_sum, \\\n",
    "            shape=[batch_size, self.num_classes])\n",
    "\n",
    "        #For centres\n",
    "        #[num_classes, feature_dim] -> [num_classes, 1]\n",
    "        centre_square_sum = tf.reduce_sum(tf.math.pow(self.centres, 2), axis=1, keepdims=True)\n",
    "        #[num_classes, 1] -> [num_classes, batch_size] -> [batch_size, num_classes]\n",
    "        centre_ss_broadcast = tf.transpose(tf.broadcast_to(input=centre_square_sum, shape=[self.num_classes, batch_size]))\n",
    "\n",
    "        #[batch_size, num_classes]\n",
    "        feature_ss_broadcast = tf.cast(feature_ss_broadcast, dtype=tf.float32)\n",
    "        \n",
    "        fea_cen = feature_ss_broadcast + centre_ss_broadcast\n",
    "        fea_cen = fea_cen*1 + (-2)*(inputs @ tf.transpose(self.centres))\n",
    "\n",
    "        #Class mask\n",
    "        classes_broadcast = tf.broadcast_to(tf.cast(tf.range(self.num_classes), dtype=tf.float32),\\\n",
    "            shape=[batch_size, self.num_classes])\n",
    "        y_True_broadcast = tf.broadcast_to(tf.expand_dims(y_True, axis=1), shape=[batch_size, self.num_classes])\n",
    "        y_True_broadcast = tf.cast(y_True_broadcast, dtype=tf.float32)\n",
    "\n",
    "        mask = tf.cast(tf.equal(classes_broadcast, y_True_broadcast), dtype=tf.float32)\n",
    "\n",
    "        loss_matrix = tf.clip_by_value(t=fea_cen * mask, clip_value_min=1e-12, clip_value_max=1e+12)\n",
    "\n",
    "        loss = tf.reduce_sum(loss_matrix)/batch_size\n",
    "\n",
    "        return loss"
   ]
  },
  {
   "cell_type": "code",
   "execution_count": 24,
   "metadata": {},
   "outputs": [
    {
     "name": "stdout",
     "output_type": "stream",
     "text": [
      "<class '__main__.CentreLoss'>\n",
      "Done!\n"
     ]
    }
   ],
   "source": [
    "if __name__ == \"__main__\":\n",
    "    loss = CentreLoss(num_classes=10, feature_dim=7)\n",
    "    print(\"Done!\")"
   ]
  },
  {
   "cell_type": "code",
   "execution_count": null,
   "metadata": {},
   "outputs": [],
   "source": []
  }
 ],
 "metadata": {
  "kernelspec": {
   "display_name": "Python 3",
   "language": "python",
   "name": "python3"
  },
  "language_info": {
   "codemirror_mode": {
    "name": "ipython",
    "version": 3
   },
   "file_extension": ".py",
   "mimetype": "text/x-python",
   "name": "python",
   "nbconvert_exporter": "python",
   "pygments_lexer": "ipython3",
   "version": "3.8.5"
  }
 },
 "nbformat": 4,
 "nbformat_minor": 4
}
